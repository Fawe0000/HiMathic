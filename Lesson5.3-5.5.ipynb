{
 "cells": [
  {
   "cell_type": "code",
   "execution_count": 2,
   "metadata": {},
   "outputs": [],
   "source": [
    "import numpy as np\n",
    "import random"
   ]
  },
  {
   "cell_type": "code",
   "execution_count": 26,
   "metadata": {},
   "outputs": [
    {
     "name": "stdout",
     "output_type": "stream",
     "text": [
      "1\n",
      "[[3 3 3 0]\n",
      " [2 2 2 0]\n",
      " [1 1 1 0]\n",
      " [2 2 2 0]]\n"
     ]
    }
   ],
   "source": [
    "# 5.3 (2)\n",
    "\n",
    "rank = 0\n",
    "matrix4x4 = np.array([0,0])\n",
    "while rank !=1:\n",
    "    matrix4x4 = np.array([[random.randint(0,3) for j in range(4)]for i in range(4)])\n",
    "    rank = np.linalg.matrix_rank(matrix4x4, 0.0001)\n",
    "print (rank)\n",
    "print(matrix4x4)\n",
    "    "
   ]
  },
  {
   "cell_type": "code",
   "execution_count": 21,
   "metadata": {},
   "outputs": [
    {
     "name": "stdout",
     "output_type": "stream",
     "text": [
      "[[ 2  8]\n",
      " [10 40]]\n"
     ]
    }
   ],
   "source": [
    "# 5.4\n",
    "\n",
    "a = (1,5)\n",
    "b = (2,8)\n",
    "print(np.outer(a,b))"
   ]
  },
  {
   "cell_type": "code",
   "execution_count": 37,
   "metadata": {},
   "outputs": [
    {
     "name": "stdout",
     "output_type": "stream",
     "text": [
      "[35. -7. -2.]\n",
      "228.5\n",
      "228.5\n",
      "[ 13.5  43.  -53. ]\n"
     ]
    }
   ],
   "source": [
    "# 5.5\n",
    "# Вычислите смешанное произведение трех векторов:(1, 5, 0), (2, 8, 7) и (7, 1.5, 3)\n",
    "\n",
    "a = np.array([1, 5, 0], float)\n",
    "b = np.array([2, 8, 7], float)\n",
    "c = np.array([7, 1.5, 3], float)\n",
    "v = np.cross(a, b)\n",
    "print(v)\n",
    "print (np.inner(v, c))\n",
    "w = np.cross(b, c)\n",
    "print (np.inner(w, a))\n",
    "print(w)"
   ]
  },
  {
   "cell_type": "code",
   "execution_count": null,
   "metadata": {},
   "outputs": [],
   "source": []
  },
  {
   "cell_type": "code",
   "execution_count": null,
   "metadata": {},
   "outputs": [],
   "source": []
  }
 ],
 "metadata": {
  "kernelspec": {
   "display_name": "Python 3",
   "language": "python",
   "name": "python3"
  },
  "language_info": {
   "codemirror_mode": {
    "name": "ipython",
    "version": 3
   },
   "file_extension": ".py",
   "mimetype": "text/x-python",
   "name": "python",
   "nbconvert_exporter": "python",
   "pygments_lexer": "ipython3",
   "version": "3.8.3"
  }
 },
 "nbformat": 4,
 "nbformat_minor": 4
}
