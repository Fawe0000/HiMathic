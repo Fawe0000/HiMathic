{
 "cells": [
  {
   "cell_type": "markdown",
   "metadata": {},
   "source": [
    "# 1. Напишите код, моделирующий выпадение поля в рулетке (с учетом поля зеро)."
   ]
  },
  {
   "cell_type": "code",
   "execution_count": 1,
   "metadata": {},
   "outputs": [],
   "source": [
    "import numpy as np\n",
    "from math import factorial"
   ]
  },
  {
   "cell_type": "code",
   "execution_count": 13,
   "metadata": {},
   "outputs": [
    {
     "name": "stdout",
     "output_type": "stream",
     "text": [
      "Моделирование рулетки\n",
      "Введите '0' стобы прекратить и любой другой символ, чтобы крутить рулетку  \n",
      "\u001b[1m 18 \u001b[0m\n",
      "\u001b[31m\u001b[1m red \u001b[0m\n",
      "Введите '0' стобы прекратить и любой другой символ, чтобы крутить рулетку  \n",
      "\u001b[1m 33 \u001b[0m\n",
      "\u001b[1m black \u001b[0m\n",
      "Введите '0' стобы прекратить и любой другой символ, чтобы крутить рулетку  \n",
      "\u001b[1m 11 \u001b[0m\n",
      "\u001b[1m black \u001b[0m\n",
      "Введите '0' стобы прекратить и любой другой символ, чтобы крутить рулетку  \n",
      "\u001b[1m 0 \u001b[0m\n",
      "\u001b[31m\u001b[1m !!!ZERO!!!\n",
      "    green \u001b[0m\n",
      "Введите '0' стобы прекратить и любой другой символ, чтобы крутить рулетку  0\n",
      "\u001b[1m 20 \u001b[0m\n",
      "\u001b[1m black \u001b[0m\n"
     ]
    }
   ],
   "source": [
    "a = 1\n",
    "print ('Моделирование рулетки')\n",
    "while a !=0 :\n",
    "    a = 0 if (input(f\"Введите '0' стобы прекратить и любой другой символ, чтобы крутить рулетку  \")) == '0' else 1\n",
    "    num = np.random.uniform(0, 37)\n",
    "    print(f'\\033[1m {int(num)} \\033[0m')\n",
    "    x = np.random.uniform(0, 100)\n",
    "    if int(num)==0:\n",
    "        print(f\"\\033[31m\\033[1m !!!ZERO!!!\\n    green \\033[0m\")\n",
    "    elif x<50:\n",
    "        print(\"\\033[31m\\033[1m red \\033[0m\")\n",
    "    else:\n",
    "        print(\"\\033[1m black \\033[0m\")"
   ]
  },
  {
   "cell_type": "code",
   "execution_count": null,
   "metadata": {},
   "outputs": [],
   "source": []
  }
 ],
 "metadata": {
  "kernelspec": {
   "display_name": "Python 3",
   "language": "python",
   "name": "python3"
  },
  "language_info": {
   "codemirror_mode": {
    "name": "ipython",
    "version": 3
   },
   "file_extension": ".py",
   "mimetype": "text/x-python",
   "name": "python",
   "nbconvert_exporter": "python",
   "pygments_lexer": "ipython3",
   "version": "3.8.3"
  }
 },
 "nbformat": 4,
 "nbformat_minor": 4
}
