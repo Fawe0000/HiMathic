{
 "cells": [
  {
   "cell_type": "markdown",
   "metadata": {},
   "source": [
    "# 2.  \n",
    "# 1) Напишите код, проверяющий любую из теорем сложения или умножения вероятности на примере рулетки или подбрасывания монетки."
   ]
  },
  {
   "cell_type": "code",
   "execution_count": 1,
   "metadata": {},
   "outputs": [],
   "source": [
    "# %matplotlib inline\n",
    "import numpy as np\n",
    "import matplotlib.pyplot as plt\n",
    "# import matplotlib.mlab as mlab"
   ]
  },
  {
   "cell_type": "code",
   "execution_count": 7,
   "metadata": {},
   "outputs": [
    {
     "name": "stdout",
     "output_type": "stream",
     "text": [
      "Проверяем теорему сложения вероятностей\n",
      "'Орел' выпал 488 раз, 'Решка' выпала 512 раз, из 1000 подбрасываний\n",
      "Полная сумма несовместных событий равна 1 (100%), теорема проверена\n"
     ]
    }
   ],
   "source": [
    "k,m,l = 0, 0, 0\n",
    "n = 1000\n",
    "print ('Проверяем теорему сложения вероятностей')\n",
    "for i in range(n):\n",
    "    x = np.random.uniform(0, 10)\n",
    "    l += 1\n",
    "    if x<5:\n",
    "        k += 1 \n",
    "    else:\n",
    "        m += 1\n",
    "print(f\"'Орел' выпал {k} раз, 'Решка' выпала {m} раз, из {l} подбрасываний\")\n",
    "if k+m==l:\n",
    "  print(\"Полная сумма несовместных событий равна 1 (100%), теорема проверена\")\n",
    "else:\n",
    "  print(\"Сумма не сошлась, теорема ошибочна\")\n"
   ]
  },
  {
   "cell_type": "markdown",
   "metadata": {},
   "source": [
    "# Сгенерируйте десять выборок случайных чисел х0, …, х9.\n",
    "# и постройте гистограмму распределения случайной суммы  +х1+ …+ х9. "
   ]
  },
  {
   "cell_type": "code",
   "execution_count": 37,
   "metadata": {},
   "outputs": [
    {
     "data": {
      "text/plain": [
       "Text(0.5, 1.0, 'Histogram')"
      ]
     },
     "execution_count": 37,
     "metadata": {},
     "output_type": "execute_result"
    },
    {
     "data": {
      "image/png": "[encoded data removed]",
      "text/plain": [
       "<Figure size 432x288 with 1 Axes>"
      ]
     },
     "metadata": {
      "needs_background": "light"
     },
     "output_type": "display_data"
    }
   ],
   "source": [
    "allsums=[]\n",
    "for i in range(1000):\n",
    "  x=np.random.rand(10)\n",
    "  allsums.append(int(sum(x)))\n",
    "num_bins = 10\n",
    "n, bins, patches = plt.hist(allsums, num_bins)\n",
    "plt.xlabel('summa')\n",
    "plt.ylabel('Probability')\n",
    "plt.title('Histogram')"
   ]
  }
 ],
 "metadata": {
  "kernelspec": {
   "display_name": "Python 3",
   "language": "python",
   "name": "python3"
  },
  "language_info": {
   "codemirror_mode": {
    "name": "ipython",
    "version": 3
   },
   "file_extension": ".py",
   "mimetype": "text/x-python",
   "name": "python",
   "nbconvert_exporter": "python",
   "pygments_lexer": "ipython3",
   "version": "3.8.3"
  }
 },
 "nbformat": 4,
 "nbformat_minor": 4
}
