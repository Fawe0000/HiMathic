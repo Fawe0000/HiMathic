{
 "cells": [
  {
   "cell_type": "code",
   "execution_count": 1,
   "metadata": {},
   "outputs": [],
   "source": [
    "#\n",
    "#1. Задание\n",
    "#Даны два вектора в трехмерном пространстве: (10,10,10) и (0,0,-10)\n",
    "#Напишите код на Python, реализующий расчет длины вектора, заданного его координатами. (в программе)"
   ]
  },
  {
   "cell_type": "code",
   "execution_count": 2,
   "metadata": {},
   "outputs": [],
   "source": [
    "# 1. импортируем библиотеки\n",
    "\n",
    "%matplotlib inline\n",
    "import numpy as np"
   ]
  },
  {
   "cell_type": "code",
   "execution_count": 3,
   "metadata": {},
   "outputs": [
    {
     "name": "stdout",
     "output_type": "stream",
     "text": [
      "Ошибка - векторы [10, 10, 10, 10] и [0, 0, -10] имеют разную длину\n",
      "Cумма векторов [10, 10, 10] и [0, 0, -10] равна [10, 10, 0]\n"
     ]
    }
   ],
   "source": [
    "# определим функцию\n",
    "def sum_vect (a, b):\n",
    "    sum_ab=[]\n",
    "    if np.shape(a) != np.shape(b):\n",
    "        return f'Ошибка - векторы {a} и {b} имеют разную длину'\n",
    "    else:\n",
    "        for i,x in enumerate(a):\n",
    "            sum_ab.append(a[i] + b[i])\n",
    "    return f'Cумма векторов {a} и {b} равна {sum_ab}'\n",
    "\n",
    "print (sum_vect([10,10,10,10],[0,0,-10]))\n",
    "print (sum_vect([10,10,10],[0,0,-10]))\n",
    "    "
   ]
  }
 ],
 "metadata": {
  "kernelspec": {
   "display_name": "Python 3",
   "language": "python",
   "name": "python3"
  },
  "language_info": {
   "codemirror_mode": {
    "name": "ipython",
    "version": 3
   },
   "file_extension": ".py",
   "mimetype": "text/x-python",
   "name": "python",
   "nbconvert_exporter": "python",
   "pygments_lexer": "ipython3",
   "version": "3.8.3"
  }
 },
 "nbformat": 4,
 "nbformat_minor": 4
}
