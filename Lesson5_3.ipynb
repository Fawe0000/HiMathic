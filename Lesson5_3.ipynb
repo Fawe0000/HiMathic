{
 "cells": [
  {
   "cell_type": "markdown",
   "metadata": {},
   "source": [
    "# 3\n",
    "\n",
    "# Дополните код Монте-Карло последовательности независимых испытаний расчетом соответствующих вероятностей (через биномиальное распределение) и сравните результаты.\n",
    "\n",
    "# Повторите расчеты биномиальных коэффициентов и вероятностей k успехов в последовательности из n независимых испытаний, взяв другие значения n и k."
   ]
  },
  {
   "cell_type": "code",
   "execution_count": 1,
   "metadata": {},
   "outputs": [],
   "source": [
    "import numpy as np\n",
    "from math import factorial"
   ]
  },
  {
   "cell_type": "code",
   "execution_count": 2,
   "metadata": {},
   "outputs": [],
   "source": [
    "# Формула числа сочетаний`\n",
    "def f_com(n, k):\n",
    "    return int(factorial(n) / (factorial(k) * factorial(n - k)))\n",
    "\n",
    "# Формула Бернулли\n",
    "def f_ber(n, k, p):\n",
    "    q = 1 - p\n",
    "    return (f_com(n, k) * p**k * q**(n - k)*100)\n"
   ]
  },
  {
   "cell_type": "code",
   "execution_count": 3,
   "metadata": {},
   "outputs": [
    {
     "name": "stdout",
     "output_type": "stream",
     "text": [
      "0 успехов из 4 выпало с вероятностью  10.00%, по формуле Бернулли мероятность должна быть  6.25%\n",
      "1 успехов из 4 выпало с вероятностью 23.00%, по формуле Бернулли мероятность должна быть 25.00%\n",
      "2 успехов из 4 выпало с вероятностью 43.00%, по формуле Бернулли мероятность должна быть 37.50%\n",
      "3 успехов из 4 выпало с вероятностью 20.00%, по формуле Бернулли мероятность должна быть 25.00%\n",
      "4 успехов из 4 выпало с вероятностью  4.00%, по формуле Бернулли мероятность должна быть  6.25%\n"
     ]
    }
   ],
   "source": [
    "n = 100\n",
    "k0 = k1 = k2 = k3 = k4 = 0\n",
    "a = np.random.randint(0, 2, n)\n",
    "b = np.random.randint(0, 2, n)\n",
    "c = np.random.randint(0, 2, n)\n",
    "d = np.random.randint(0, 2, n)\n",
    "x = a + b + c + d\n",
    "for i in range(0, n):\n",
    "    if x[i] == 0:\n",
    "        k0 += 1\n",
    "    elif x[i] == 1:\n",
    "        k1 += 1\n",
    "    elif x[i] == 2:\n",
    "        k2 += 1\n",
    "    elif x[i] == 3:\n",
    "        k3 += 1\n",
    "    elif x[i] == 4:\n",
    "        k4 += 1\n",
    "\n",
    "print(f'0 успехов из 4 выпало с вероятностью  {k0/n*100:.2f}%, по формуле Бернулли мероятность должна быть  {f_ber(4, 0, 0.5):.2f}%')\n",
    "print(f'1 успехов из 4 выпало с вероятностью {k1/n*100:.2f}%, по формуле Бернулли мероятность должна быть {f_ber(4, 1, 0.5):.2f}%')\n",
    "print(f'2 успехов из 4 выпало с вероятностью {k2/n*100:.2f}%, по формуле Бернулли мероятность должна быть {f_ber(4, 2, 0.5):.2f}%')\n",
    "print(f'3 успехов из 4 выпало с вероятностью {k3/n*100:.2f}%, по формуле Бернулли мероятность должна быть {f_ber(4, 3, 0.5):.2f}%')\n",
    "print(f'4 успехов из 4 выпало с вероятностью  {k4/n*100:.2f}%, по формуле Бернулли мероятность должна быть  {f_ber(4, 4, 0.5):.2f}%')"
   ]
  }
 ],
 "metadata": {
  "kernelspec": {
   "display_name": "Python 3",
   "language": "python",
   "name": "python3"
  },
  "language_info": {
   "codemirror_mode": {
    "name": "ipython",
    "version": 3
   },
   "file_extension": ".py",
   "mimetype": "text/x-python",
   "name": "python",
   "nbconvert_exporter": "python",
   "pygments_lexer": "ipython3",
   "version": "3.8.3"
  }
 },
 "nbformat": 4,
 "nbformat_minor": 4
}
